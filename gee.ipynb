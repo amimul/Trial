{
  "nbformat": 4,
  "nbformat_minor": 0,
  "metadata": {
    "colab": {
      "name": "Untitled1.ipynb",
      "provenance": []
    },
    "kernelspec": {
      "name": "python3",
      "display_name": "Python 3"
    }
  },
  "cells": [
    {
      "cell_type": "code",
      "metadata": {
        "id": "tuwlLxLiuYet",
        "colab_type": "code",
        "colab": {}
      },
      "source": [
        "# Installs gee  package\n",
        "import subprocess\n",
        "\n",
        "try:\n",
        "    \n",
        "    import ee\n",
        "except ImportError:\n",
        "    print('gee package not installed. Installing ...')\n",
        "    subprocess.check_call([\"python\", '-m', 'pip', 'install', 'ee'])\n",
        "\n",
        "# Checks whether this notebook is running on Google Colab\n",
        "try:\n",
        "    import google.colab\n",
        "except:\n",
        "    \n",
        "# Authenticates and initializes Earth Engine\n",
        "    import ee\n",
        "\n",
        "try:\n",
        "    ee.Initialize()\n",
        "except Exception as e:\n",
        "    ee.Authenticate()\n",
        "    ee.Initialize()"
      ],
      "execution_count": 0,
      "outputs": []
    },
    {
      "cell_type": "code",
      "metadata": {
        "id": "i3NXzFMWucLq",
        "colab_type": "code",
        "colab": {}
      },
      "source": [
        "# Set start and end date\n",
        "import datetime\n",
        "startTime = datetime.datetime(2013, 2, 3)\n",
        "endTime = datetime.datetime(2019, 5, 25)\n",
        "\n",
        "# Create image collection\n",
        "image = ee.ImageCollection('LANDSAT/LC08/C01/T1_RT').filterDate(startTime, endTime)\n",
        "precipitation = ee.ImageCollection('UCSB-CHG/CHIRPS/PENTAD').filterDate(startTime, endTime)\n",
        "probav = ee.ImageCollection('VITO/PROBAV/C1/S1_TOC_100M').filterDate(startTime, endTime)\n"
      ],
      "execution_count": 0,
      "outputs": []
    },
    {
      "cell_type": "code",
      "metadata": {
        "id": "STDw-edo1YRC",
        "colab_type": "code",
        "colab": {}
      },
      "source": [
        "#Retrieve information over image collection\n",
        "point = {'type':'Point', 'coordinates':[-99.545934,20.572173]};\n",
        "\n",
        "info_image = image.getRegion(point,500).getInfo()"
      ],
      "execution_count": 0,
      "outputs": []
    },
    {
      "cell_type": "code",
      "metadata": {
        "id": "thZN9GWb4cvi",
        "colab_type": "code",
        "colab": {
          "base_uri": "https://localhost:8080/",
          "height": 102
        },
        "outputId": "eab35c22-01c2-456b-a3f3-48d01d8fb71a"
      },
      "source": [
        "# Reshape Landsat 8\n",
        "import pandas as pd\n",
        "import matplotlib.dates as mdates\n",
        "from IPython.display import Image\n",
        "from pylab import *\n",
        "from numpy import fft\n",
        "\n",
        "import matplotlib.pyplot as plt\n",
        "\n",
        "\n",
        "header = info_image[0]\n",
        "data = array(info_image[1:])\n",
        "\n",
        "iTime = header.index('time')\n",
        "time = [datetime.datetime.fromtimestamp(i/1000) for i in (data[0:,iTime].astype(int))]\n",
        "\n",
        "# List of used image bands\n",
        "band_list = ['B5','B4']\n",
        "\n",
        "iBands = [header.index(b) for b in band_list]\n",
        "yData = data[0:,iBands].astype(np.float)\n",
        "\n",
        "# Calculate NDVI\n",
        "red = yData[:,0]\n",
        "nir = yData[:,1]\n",
        "ndvi = (nir - red) / (nir + red)\n",
        "\n",
        "# Reshape NDVI array into Pandas Dataframe\n",
        "df = pd.DataFrame(data=ndvi*-1, index=time, columns=['ndvi'])\n",
        "df_red=pd.DataFrame(data=red, index=time, columns=['red'])\n",
        "l8_time_series = df.dropna()\n",
        "\n",
        "# Resampling\n",
        "monthly_landsat = l8_time_series.resample('M', how='mean')"
      ],
      "execution_count": 25,
      "outputs": [
        {
          "output_type": "stream",
          "text": [
            "/usr/local/lib/python3.6/dist-packages/ipykernel_launcher.py:33: FutureWarning:\n",
            "\n",
            "how in .resample() is deprecated\n",
            "the new syntax is .resample(...).mean()\n",
            "\n"
          ],
          "name": "stderr"
        }
      ]
    },
    {
      "cell_type": "code",
      "metadata": {
        "id": "607A9a5S8iPn",
        "colab_type": "code",
        "colab": {}
      },
      "source": [
        "monthly = pd.DataFrame({'landsat': monthly_landsat['ndvi']})"
      ],
      "execution_count": 0,
      "outputs": []
    },
    {
      "cell_type": "code",
      "metadata": {
        "id": "eV7WW36H9UrK",
        "colab_type": "code",
        "colab": {
          "base_uri": "https://localhost:8080/",
          "height": 419
        },
        "outputId": "2d33affc-4aea-4722-de8f-a371970a92e9"
      },
      "source": [
        "monthly"
      ],
      "execution_count": 24,
      "outputs": [
        {
          "output_type": "execute_result",
          "data": {
            "text/html": [
              "<div>\n",
              "<style scoped>\n",
              "    .dataframe tbody tr th:only-of-type {\n",
              "        vertical-align: middle;\n",
              "    }\n",
              "\n",
              "    .dataframe tbody tr th {\n",
              "        vertical-align: top;\n",
              "    }\n",
              "\n",
              "    .dataframe thead th {\n",
              "        text-align: right;\n",
              "    }\n",
              "</style>\n",
              "<table border=\"1\" class=\"dataframe\">\n",
              "  <thead>\n",
              "    <tr style=\"text-align: right;\">\n",
              "      <th></th>\n",
              "      <th>landsat</th>\n",
              "    </tr>\n",
              "  </thead>\n",
              "  <tbody>\n",
              "    <tr>\n",
              "      <th>2013-04-30</th>\n",
              "      <td>0.078764</td>\n",
              "    </tr>\n",
              "    <tr>\n",
              "      <th>2013-05-31</th>\n",
              "      <td>0.085864</td>\n",
              "    </tr>\n",
              "    <tr>\n",
              "      <th>2013-06-30</th>\n",
              "      <td>0.153815</td>\n",
              "    </tr>\n",
              "    <tr>\n",
              "      <th>2013-07-31</th>\n",
              "      <td>0.221417</td>\n",
              "    </tr>\n",
              "    <tr>\n",
              "      <th>2013-08-31</th>\n",
              "      <td>0.129672</td>\n",
              "    </tr>\n",
              "    <tr>\n",
              "      <th>...</th>\n",
              "      <td>...</td>\n",
              "    </tr>\n",
              "    <tr>\n",
              "      <th>2019-01-31</th>\n",
              "      <td>0.070517</td>\n",
              "    </tr>\n",
              "    <tr>\n",
              "      <th>2019-02-28</th>\n",
              "      <td>0.088748</td>\n",
              "    </tr>\n",
              "    <tr>\n",
              "      <th>2019-03-31</th>\n",
              "      <td>0.100357</td>\n",
              "    </tr>\n",
              "    <tr>\n",
              "      <th>2019-04-30</th>\n",
              "      <td>0.093038</td>\n",
              "    </tr>\n",
              "    <tr>\n",
              "      <th>2019-05-31</th>\n",
              "      <td>0.107145</td>\n",
              "    </tr>\n",
              "  </tbody>\n",
              "</table>\n",
              "<p>74 rows × 1 columns</p>\n",
              "</div>"
            ],
            "text/plain": [
              "             landsat\n",
              "2013-04-30  0.078764\n",
              "2013-05-31  0.085864\n",
              "2013-06-30  0.153815\n",
              "2013-07-31  0.221417\n",
              "2013-08-31  0.129672\n",
              "...              ...\n",
              "2019-01-31  0.070517\n",
              "2019-02-28  0.088748\n",
              "2019-03-31  0.100357\n",
              "2019-04-30  0.093038\n",
              "2019-05-31  0.107145\n",
              "\n",
              "[74 rows x 1 columns]"
            ]
          },
          "metadata": {
            "tags": []
          },
          "execution_count": 24
        }
      ]
    },
    {
      "cell_type": "code",
      "metadata": {
        "id": "62lCVt8m9aOC",
        "colab_type": "code",
        "colab": {}
      },
      "source": [
        ""
      ],
      "execution_count": 0,
      "outputs": []
    }
  ]
}